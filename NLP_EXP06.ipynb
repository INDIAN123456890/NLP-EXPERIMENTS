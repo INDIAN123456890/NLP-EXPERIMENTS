{
  "nbformat": 4,
  "nbformat_minor": 0,
  "metadata": {
    "colab": {
      "provenance": []
    },
    "kernelspec": {
      "name": "python3",
      "display_name": "Python 3"
    },
    "language_info": {
      "name": "python"
    }
  },
  "cells": [
    {
      "cell_type": "markdown",
      "source": [
        "## **Importing and Downloading libraries**"
      ],
      "metadata": {
        "id": "d9idVsFiGwDc"
      }
    },
    {
      "cell_type": "code",
      "execution_count": null,
      "metadata": {
        "id": "wVpAJr7BE89r"
      },
      "outputs": [],
      "source": [
        "import nltk"
      ]
    },
    {
      "cell_type": "code",
      "source": [
        "nltk.download('punkt')\n",
        "nltk.download('punkt_tab')\n",
        "nltk.download('averaged_perceptron_tagger')\n",
        "nltk.download('averaged_perceptron_tagger_eng')\n",
        "nltk.download('maxent_ne_chunker')\n",
        "nltk.download('maxent_ne_chunker_tab')\n",
        "nltk.download('words')"
      ],
      "metadata": {
        "colab": {
          "base_uri": "https://localhost:8080/"
        },
        "id": "tNAE1Wo1E_QF",
        "outputId": "dff0f758-81b8-4c99-cf21-d9e837b3d675"
      },
      "execution_count": null,
      "outputs": [
        {
          "output_type": "stream",
          "name": "stderr",
          "text": [
            "[nltk_data] Downloading package punkt to /root/nltk_data...\n",
            "[nltk_data]   Package punkt is already up-to-date!\n",
            "[nltk_data] Downloading package punkt_tab to /root/nltk_data...\n",
            "[nltk_data]   Package punkt_tab is already up-to-date!\n",
            "[nltk_data] Downloading package averaged_perceptron_tagger to\n",
            "[nltk_data]     /root/nltk_data...\n",
            "[nltk_data]   Package averaged_perceptron_tagger is already up-to-\n",
            "[nltk_data]       date!\n",
            "[nltk_data] Downloading package averaged_perceptron_tagger_eng to\n",
            "[nltk_data]     /root/nltk_data...\n",
            "[nltk_data]   Package averaged_perceptron_tagger_eng is already up-to-\n",
            "[nltk_data]       date!\n",
            "[nltk_data] Downloading package maxent_ne_chunker to\n",
            "[nltk_data]     /root/nltk_data...\n",
            "[nltk_data]   Package maxent_ne_chunker is already up-to-date!\n",
            "[nltk_data] Downloading package maxent_ne_chunker_tab to\n",
            "[nltk_data]     /root/nltk_data...\n",
            "[nltk_data]   Unzipping chunkers/maxent_ne_chunker_tab.zip.\n",
            "[nltk_data] Downloading package words to /root/nltk_data...\n",
            "[nltk_data]   Package words is already up-to-date!\n"
          ]
        },
        {
          "output_type": "execute_result",
          "data": {
            "text/plain": [
              "True"
            ]
          },
          "metadata": {},
          "execution_count": 13
        }
      ]
    },
    {
      "cell_type": "markdown",
      "source": [
        "## **Define the sentence**"
      ],
      "metadata": {
        "id": "N8b0LGA2HG8T"
      }
    },
    {
      "cell_type": "code",
      "source": [
        "sentence = \"Barack Obama was born in Hawaii and served as the 44th President of the United States.\""
      ],
      "metadata": {
        "id": "iwYmEUN1FB90"
      },
      "execution_count": null,
      "outputs": []
    },
    {
      "cell_type": "markdown",
      "source": [
        "## **Tokenize the sentence and POS Tagging**"
      ],
      "metadata": {
        "id": "t3yQFSz-HLvj"
      }
    },
    {
      "cell_type": "code",
      "source": [
        "# Tokenize the sentence\n",
        "tokens = nltk.word_tokenize(sentence)\n",
        "\n",
        "# POS-tag the tokens\n",
        "pos_tags = nltk.pos_tag(tokens)"
      ],
      "metadata": {
        "id": "UToNdAADFFbj"
      },
      "execution_count": null,
      "outputs": []
    },
    {
      "cell_type": "markdown",
      "source": [
        "## **Define chunk grammar for noun phrases (NP) and Create a chunk parser and parse the POS-tagged sentence**"
      ],
      "metadata": {
        "id": "TA9Qrr1QHYL8"
      }
    },
    {
      "cell_type": "code",
      "source": [
        "chunk_grammar = \"NP: {<DT>?<JJ>*<NN>}\"\n",
        "\n",
        "# Create a chunk parser and parse the POS-tagged sentence\n",
        "chunk_parser = nltk.RegexpParser(chunk_grammar)\n",
        "chunked = chunk_parser.parse(pos_tags)"
      ],
      "metadata": {
        "id": "3La0kB-yFJqU"
      },
      "execution_count": null,
      "outputs": []
    },
    {
      "cell_type": "markdown",
      "source": [
        "\n",
        "## **Perform Named Entity Recognition (NER)**"
      ],
      "metadata": {
        "id": "FGV8ML1tHsyE"
      }
    },
    {
      "cell_type": "code",
      "source": [
        "# Perform Named Entity Recognition (NER)\n",
        "ner_tree = nltk.ne_chunk(pos_tags)"
      ],
      "metadata": {
        "id": "wSDTd-njFbsU"
      },
      "execution_count": null,
      "outputs": []
    },
    {
      "cell_type": "code",
      "source": [
        "def extract_named_entities(tree):\n",
        "    entities = []\n",
        "    for subtree in tree:\n",
        "        if hasattr(subtree, 'label') and subtree.label() in ['PERSON', 'ORGANIZATION', 'GPE', 'LOCATION']:\n",
        "            entity_name = ' '.join([token for token, pos in subtree.leaves()])\n",
        "            entity_type = subtree.label()\n",
        "            entities.append((entity_name, entity_type))\n",
        "    return entities\n",
        "\n",
        "named_entities = extract_named_entities(ner_tree)"
      ],
      "metadata": {
        "id": "Adi6ikYmFqNz"
      },
      "execution_count": null,
      "outputs": []
    },
    {
      "cell_type": "code",
      "source": [
        "print(\"Named Entities:\")\n",
        "for entity, etype in named_entities:\n",
        "    print(f\"{entity} ({etype})\")"
      ],
      "metadata": {
        "colab": {
          "base_uri": "https://localhost:8080/"
        },
        "id": "RTZ08zD-GPnz",
        "outputId": "c6e2d66b-2144-48c8-b228-7f7c797e9ffe"
      },
      "execution_count": null,
      "outputs": [
        {
          "output_type": "stream",
          "name": "stdout",
          "text": [
            "Named Entities:\n",
            "Barack (PERSON)\n",
            "Obama (PERSON)\n",
            "Hawaii (GPE)\n",
            "United States (GPE)\n"
          ]
        }
      ]
    },
    {
      "cell_type": "code",
      "source": [
        "# GPE = GEOPOLITICAL ENTITY\n",
        "# e.g., countries, states"
      ],
      "metadata": {
        "id": "vHZxEhiaGU3z"
      },
      "execution_count": null,
      "outputs": []
    }
  ]
}