{
  "nbformat": 4,
  "nbformat_minor": 0,
  "metadata": {
    "colab": {
      "provenance": []
    },
    "kernelspec": {
      "name": "python3",
      "display_name": "Python 3"
    },
    "language_info": {
      "name": "python"
    }
  },
  "cells": [
    {
      "cell_type": "markdown",
      "source": [
        "# **Step 1: Import necessary libraries**\n"
      ],
      "metadata": {
        "id": "LVO18vnuyE7h"
      }
    },
    {
      "cell_type": "code",
      "execution_count": 19,
      "metadata": {
        "id": "yJ2slohnvisR"
      },
      "outputs": [],
      "source": [
        "import nltk\n",
        "from nltk.corpus import stopwords, gutenberg\n",
        "from nltk.tokenize import word_tokenize, sent_tokenize\n",
        "import re\n",
        "from gensim.models import Word2Vec\n",
        "from sklearn.manifold import TSNE\n",
        "import matplotlib.pyplot as plt\n",
        "import numpy as np"
      ]
    },
    {
      "cell_type": "code",
      "source": [
        "nltk.download('punkt')\n",
        "nltk.download('stopwords')\n",
        "nltk.download('gutenberg')\n",
        "nltk.download('punkt_tab')"
      ],
      "metadata": {
        "colab": {
          "base_uri": "https://localhost:8080/"
        },
        "id": "zNjBxBY5vq96",
        "outputId": "40a29289-c74f-4a0e-db08-6404731fb10c"
      },
      "execution_count": 20,
      "outputs": [
        {
          "output_type": "stream",
          "name": "stderr",
          "text": [
            "[nltk_data] Downloading package punkt to /root/nltk_data...\n",
            "[nltk_data]   Package punkt is already up-to-date!\n",
            "[nltk_data] Downloading package stopwords to /root/nltk_data...\n",
            "[nltk_data]   Package stopwords is already up-to-date!\n",
            "[nltk_data] Downloading package gutenberg to /root/nltk_data...\n",
            "[nltk_data]   Package gutenberg is already up-to-date!\n",
            "[nltk_data] Downloading package punkt_tab to /root/nltk_data...\n",
            "[nltk_data]   Package punkt_tab is already up-to-date!\n"
          ]
        },
        {
          "output_type": "execute_result",
          "data": {
            "text/plain": [
              "True"
            ]
          },
          "metadata": {},
          "execution_count": 20
        }
      ]
    },
    {
      "cell_type": "markdown",
      "source": [
        "# **Step 2: Prepare the corpus**"
      ],
      "metadata": {
        "id": "kvCT8k3syQqQ"
      }
    },
    {
      "cell_type": "markdown",
      "source": [
        "\n",
        "### *Loading a sample corpus from NLTK (here, Jane Austen's \"Emma\")*"
      ],
      "metadata": {
        "id": "Uf6PKhcgyVkx"
      }
    },
    {
      "cell_type": "code",
      "source": [
        "raw_text = gutenberg.raw('austen-emma.txt')"
      ],
      "metadata": {
        "id": "gl9TNqFowj_J"
      },
      "execution_count": 21,
      "outputs": []
    },
    {
      "cell_type": "markdown",
      "source": [
        "### *Preprocess text*"
      ],
      "metadata": {
        "id": "mdwaM9lryhSg"
      }
    },
    {
      "cell_type": "code",
      "source": [
        "def preprocess_text(text):\n",
        "    stop_words = set(stopwords.words('english'))\n",
        "    sentences = sent_tokenize(text)\n",
        "    cleaned_sentences = []\n",
        "\n",
        "    for sent in sentences:\n",
        "        sent = sent.lower()\n",
        "        sent = re.sub(r'[^a-zA-Z\\s]', '', sent)\n",
        "        tokens = word_tokenize(sent)\n",
        "        filtered_tokens = [word for word in tokens if word not in stop_words and len(word) > 1]\n",
        "        if filtered_tokens:\n",
        "            cleaned_sentences.append(filtered_tokens)\n",
        "\n",
        "    return cleaned_sentences"
      ],
      "metadata": {
        "id": "zSZBG5-3wokY"
      },
      "execution_count": 22,
      "outputs": []
    },
    {
      "cell_type": "code",
      "source": [
        "corpus = preprocess_text(raw_text)"
      ],
      "metadata": {
        "id": "QM9MB6aJwuKI"
      },
      "execution_count": 23,
      "outputs": []
    },
    {
      "cell_type": "markdown",
      "source": [
        "# **Step 3: Train Word2Vec Model**"
      ],
      "metadata": {
        "id": "vswJGBcAynZh"
      }
    },
    {
      "cell_type": "code",
      "source": [
        "model = Word2Vec(sentences=corpus, vector_size=100, window=5, min_count=2, workers=4, sg=1)"
      ],
      "metadata": {
        "id": "cLZCJwtlwwN4"
      },
      "execution_count": 24,
      "outputs": []
    },
    {
      "cell_type": "markdown",
      "source": [
        "# **Step 4: Explore Embeddings**"
      ],
      "metadata": {
        "id": "2iuSIm3uy0rY"
      }
    },
    {
      "cell_type": "markdown",
      "source": [
        "### *a. Most similar words*"
      ],
      "metadata": {
        "id": "cn1ckASDy5C4"
      }
    },
    {
      "cell_type": "code",
      "source": [
        "print(\"Most similar words to 'emma':\")\n",
        "print(model.wv.most_similar('emma'))"
      ],
      "metadata": {
        "colab": {
          "base_uri": "https://localhost:8080/"
        },
        "id": "WmKzFyowxKK4",
        "outputId": "161bdb45-8aba-487c-cbf4-79466458aaa2"
      },
      "execution_count": 25,
      "outputs": [
        {
          "output_type": "stream",
          "name": "stdout",
          "text": [
            "Most similar words to 'emma':\n",
            "[('obliged', 0.9881818294525146), ('yes', 0.9880140423774719), ('understand', 0.9877790212631226), ('carriage', 0.9867585301399231), ('hear', 0.9865809679031372), ('believe', 0.9865036010742188), ('sir', 0.9864490628242493), ('smiling', 0.9862954616546631), ('saw', 0.9859692454338074), ('tea', 0.9856665134429932)]\n"
          ]
        }
      ]
    },
    {
      "cell_type": "markdown",
      "source": [
        "\n",
        "### *b. Similarity score between two words*"
      ],
      "metadata": {
        "id": "qjOE8gYCzAYJ"
      }
    },
    {
      "cell_type": "code",
      "source": [
        "print(\"\\nSimilarity between 'emma' and 'harriet':\", model.wv.similarity('emma', 'harriet'))"
      ],
      "metadata": {
        "colab": {
          "base_uri": "https://localhost:8080/"
        },
        "id": "JswbWnXBxPbo",
        "outputId": "212bfc52-2759-423f-b75b-c6d2064ba1a5"
      },
      "execution_count": 26,
      "outputs": [
        {
          "output_type": "stream",
          "name": "stdout",
          "text": [
            "\n",
            "Similarity between 'emma' and 'harriet': 0.9839056\n"
          ]
        }
      ]
    },
    {
      "cell_type": "markdown",
      "source": [
        "# **Step 5: Visualize Word Vectors using t-SNE**"
      ],
      "metadata": {
        "id": "xRSLLG2kzIzR"
      }
    },
    {
      "cell_type": "code",
      "source": [
        "def visualize_embeddings(model, words):\n",
        "    word_vectors = [model.wv[word] for word in words if word in model.wv]\n",
        "    labels = [word for word in words if word in model.wv]\n",
        "\n",
        "    tsne = TSNE(n_components=2, random_state=0, perplexity=5)\n",
        "    reduced_vectors = tsne.fit_transform(np.array(word_vectors))  # Fix applied here\n",
        "\n",
        "    plt.figure(figsize=(10, 6))\n",
        "    for i, label in enumerate(labels):\n",
        "        x, y = reduced_vectors[i, :]\n",
        "        plt.scatter(x, y)\n",
        "        plt.annotate(label, (x, y), fontsize=12)\n",
        "    plt.title(\"t-SNE visualization of Word Embeddings\")\n",
        "    plt.show()"
      ],
      "metadata": {
        "id": "nakFJYIdxS3X"
      },
      "execution_count": 27,
      "outputs": []
    },
    {
      "cell_type": "markdown",
      "source": [
        "# **Example visualization for selected words**"
      ],
      "metadata": {
        "id": "dCgZuJX_zPYX"
      }
    },
    {
      "cell_type": "code",
      "source": [
        "words_to_visualize = ['emma', 'harriet', 'knightley', 'miss', 'jane', 'elton', 'churchill', 'love', 'marriage', 'friend']\n",
        "visualize_embeddings(model, words_to_visualize)"
      ],
      "metadata": {
        "colab": {
          "base_uri": "https://localhost:8080/",
          "height": 545
        },
        "id": "IM6l7jbzxYG3",
        "outputId": "64b6dd70-238c-4773-a8e1-d422a750af5b"
      },
      "execution_count": 28,
      "outputs": [
        {
          "output_type": "display_data",
          "data": {
            "text/plain": [
              "<Figure size 1000x600 with 1 Axes>"
            ],
            "image/png": "[encoded data removed]"
          },
          "metadata": {}
        }
      ]
    }
  ]
}
